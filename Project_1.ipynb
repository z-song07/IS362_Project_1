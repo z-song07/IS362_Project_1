{
 "cells": [
  {
   "cell_type": "markdown",
   "id": "b950009c",
   "metadata": {},
   "source": [
    "# Project 1\n",
    "<i>This project will analyze the flight puntuality status for Alaska and AM West airlines for west coast major cities.<i>"
   ]
  },
  {
   "cell_type": "code",
   "execution_count": 1,
   "id": "9feedf4a",
   "metadata": {},
   "outputs": [],
   "source": [
    "# import numpy and pandas\n",
    "import numpy as np\n",
    "import pandas as pd"
   ]
  },
  {
   "cell_type": "code",
   "execution_count": 2,
   "id": "92627397",
   "metadata": {},
   "outputs": [
    {
     "data": {
      "text/html": [
       "<div>\n",
       "<style scoped>\n",
       "    .dataframe tbody tr th:only-of-type {\n",
       "        vertical-align: middle;\n",
       "    }\n",
       "\n",
       "    .dataframe tbody tr th {\n",
       "        vertical-align: top;\n",
       "    }\n",
       "\n",
       "    .dataframe thead th {\n",
       "        text-align: right;\n",
       "    }\n",
       "</style>\n",
       "<table border=\"1\" class=\"dataframe\">\n",
       "  <thead>\n",
       "    <tr style=\"text-align: right;\">\n",
       "      <th></th>\n",
       "      <th></th>\n",
       "      <th>Los Angeles</th>\n",
       "      <th>Phoenix</th>\n",
       "      <th>San Diego</th>\n",
       "      <th>San Francisco</th>\n",
       "      <th>Seattle</th>\n",
       "    </tr>\n",
       "    <tr>\n",
       "      <th>airline</th>\n",
       "      <th>status</th>\n",
       "      <th></th>\n",
       "      <th></th>\n",
       "      <th></th>\n",
       "      <th></th>\n",
       "      <th></th>\n",
       "    </tr>\n",
       "  </thead>\n",
       "  <tbody>\n",
       "    <tr>\n",
       "      <th rowspan=\"2\" valign=\"top\">ALASKA</th>\n",
       "      <th>on_time</th>\n",
       "      <td>497</td>\n",
       "      <td>221</td>\n",
       "      <td>212</td>\n",
       "      <td>503</td>\n",
       "      <td>1841</td>\n",
       "    </tr>\n",
       "    <tr>\n",
       "      <th>delayed</th>\n",
       "      <td>62</td>\n",
       "      <td>12</td>\n",
       "      <td>20</td>\n",
       "      <td>102</td>\n",
       "      <td>305</td>\n",
       "    </tr>\n",
       "    <tr>\n",
       "      <th rowspan=\"2\" valign=\"top\">AM_WEST</th>\n",
       "      <th>on_time</th>\n",
       "      <td>694</td>\n",
       "      <td>4840</td>\n",
       "      <td>383</td>\n",
       "      <td>320</td>\n",
       "      <td>201</td>\n",
       "    </tr>\n",
       "    <tr>\n",
       "      <th>delayed</th>\n",
       "      <td>117</td>\n",
       "      <td>415</td>\n",
       "      <td>65</td>\n",
       "      <td>129</td>\n",
       "      <td>61</td>\n",
       "    </tr>\n",
       "  </tbody>\n",
       "</table>\n",
       "</div>"
      ],
      "text/plain": [
       "                 Los Angeles  Phoenix  San Diego  San Francisco  Seattle\n",
       "airline status                                                          \n",
       "ALASKA  on_time          497      221        212            503     1841\n",
       "        delayed           62       12         20            102      305\n",
       "AM_WEST on_time          694     4840        383            320      201\n",
       "        delayed          117      415         65            129       61"
      ]
     },
     "execution_count": 2,
     "metadata": {},
     "output_type": "execute_result"
    }
   ],
   "source": [
    "# read in the flights data from csv file and create a dataframe\n",
    "flights = pd.read_csv('flights.csv', header=[0], index_col=[0,1])\n",
    "\n",
    "# display the dataframe flights\n",
    "flights.head()"
   ]
  },
  {
   "cell_type": "markdown",
   "id": "3fc97876",
   "metadata": {},
   "source": [
    "##  1. calculate the percentage of on-time flights of each airline flight for each city\n",
    "<i>on_time flights / total flights * 100 = percentage of on_time<i>"
   ]
  },
  {
   "cell_type": "code",
   "execution_count": 3,
   "id": "bfe0c8c3",
   "metadata": {},
   "outputs": [
    {
     "data": {
      "text/html": [
       "<div>\n",
       "<style scoped>\n",
       "    .dataframe tbody tr th:only-of-type {\n",
       "        vertical-align: middle;\n",
       "    }\n",
       "\n",
       "    .dataframe tbody tr th {\n",
       "        vertical-align: top;\n",
       "    }\n",
       "\n",
       "    .dataframe thead th {\n",
       "        text-align: right;\n",
       "    }\n",
       "</style>\n",
       "<table border=\"1\" class=\"dataframe\">\n",
       "  <thead>\n",
       "    <tr style=\"text-align: right;\">\n",
       "      <th></th>\n",
       "      <th>Los Angeles</th>\n",
       "      <th>Phoenix</th>\n",
       "      <th>San Diego</th>\n",
       "      <th>San Francisco</th>\n",
       "      <th>Seattle</th>\n",
       "    </tr>\n",
       "    <tr>\n",
       "      <th>airline</th>\n",
       "      <th></th>\n",
       "      <th></th>\n",
       "      <th></th>\n",
       "      <th></th>\n",
       "      <th></th>\n",
       "    </tr>\n",
       "  </thead>\n",
       "  <tbody>\n",
       "    <tr>\n",
       "      <th>ALASKA</th>\n",
       "      <td>497</td>\n",
       "      <td>221</td>\n",
       "      <td>212</td>\n",
       "      <td>503</td>\n",
       "      <td>1841</td>\n",
       "    </tr>\n",
       "    <tr>\n",
       "      <th>AM_WEST</th>\n",
       "      <td>694</td>\n",
       "      <td>4840</td>\n",
       "      <td>383</td>\n",
       "      <td>320</td>\n",
       "      <td>201</td>\n",
       "    </tr>\n",
       "  </tbody>\n",
       "</table>\n",
       "</div>"
      ],
      "text/plain": [
       "         Los Angeles  Phoenix  San Diego  San Francisco  Seattle\n",
       "airline                                                         \n",
       "ALASKA           497      221        212            503     1841\n",
       "AM_WEST          694     4840        383            320      201"
      ]
     },
     "execution_count": 3,
     "metadata": {},
     "output_type": "execute_result"
    }
   ],
   "source": [
    "# Step1: choose the on_time flights only for each city\n",
    "on_time_flights_each_city = flights.xs('on_time',level='status')\n",
    "on_time_flights_each_city.head()"
   ]
  },
  {
   "cell_type": "code",
   "execution_count": 4,
   "id": "f2cfaf32",
   "metadata": {},
   "outputs": [
    {
     "data": {
      "text/html": [
       "<div>\n",
       "<style scoped>\n",
       "    .dataframe tbody tr th:only-of-type {\n",
       "        vertical-align: middle;\n",
       "    }\n",
       "\n",
       "    .dataframe tbody tr th {\n",
       "        vertical-align: top;\n",
       "    }\n",
       "\n",
       "    .dataframe thead th {\n",
       "        text-align: right;\n",
       "    }\n",
       "</style>\n",
       "<table border=\"1\" class=\"dataframe\">\n",
       "  <thead>\n",
       "    <tr style=\"text-align: right;\">\n",
       "      <th></th>\n",
       "      <th>Los Angeles</th>\n",
       "      <th>Phoenix</th>\n",
       "      <th>San Diego</th>\n",
       "      <th>San Francisco</th>\n",
       "      <th>Seattle</th>\n",
       "    </tr>\n",
       "    <tr>\n",
       "      <th>airline</th>\n",
       "      <th></th>\n",
       "      <th></th>\n",
       "      <th></th>\n",
       "      <th></th>\n",
       "      <th></th>\n",
       "    </tr>\n",
       "  </thead>\n",
       "  <tbody>\n",
       "    <tr>\n",
       "      <th>ALASKA</th>\n",
       "      <td>559</td>\n",
       "      <td>233</td>\n",
       "      <td>232</td>\n",
       "      <td>605</td>\n",
       "      <td>2146</td>\n",
       "    </tr>\n",
       "    <tr>\n",
       "      <th>AM_WEST</th>\n",
       "      <td>811</td>\n",
       "      <td>5255</td>\n",
       "      <td>448</td>\n",
       "      <td>449</td>\n",
       "      <td>262</td>\n",
       "    </tr>\n",
       "  </tbody>\n",
       "</table>\n",
       "</div>"
      ],
      "text/plain": [
       "         Los Angeles  Phoenix  San Diego  San Francisco  Seattle\n",
       "airline                                                         \n",
       "ALASKA           559      233        232            605     2146\n",
       "AM_WEST          811     5255        448            449      262"
      ]
     },
     "execution_count": 4,
     "metadata": {},
     "output_type": "execute_result"
    }
   ],
   "source": [
    "# Step2: calculate the total flights of each airline for each city\n",
    "total_flights_each_city = flights.groupby('airline').sum()\n",
    "total_flights_each_city.head()"
   ]
  },
  {
   "cell_type": "code",
   "execution_count": 5,
   "id": "8356a1c7",
   "metadata": {},
   "outputs": [
    {
     "data": {
      "text/html": [
       "<style type=\"text/css\">\n",
       "</style>\n",
       "<table id=\"T_d4daf\" style='display:inline'>\n",
       "  <caption>On-Time Flights Percentage for Each City</caption>\n",
       "  <thead>\n",
       "    <tr>\n",
       "      <th class=\"blank level0\" >&nbsp;</th>\n",
       "      <th id=\"T_d4daf_level0_col0\" class=\"col_heading level0 col0\" >Los Angeles</th>\n",
       "      <th id=\"T_d4daf_level0_col1\" class=\"col_heading level0 col1\" >Phoenix</th>\n",
       "      <th id=\"T_d4daf_level0_col2\" class=\"col_heading level0 col2\" >San Diego</th>\n",
       "      <th id=\"T_d4daf_level0_col3\" class=\"col_heading level0 col3\" >San Francisco</th>\n",
       "      <th id=\"T_d4daf_level0_col4\" class=\"col_heading level0 col4\" >Seattle</th>\n",
       "    </tr>\n",
       "    <tr>\n",
       "      <th class=\"index_name level0\" >airline</th>\n",
       "      <th class=\"blank col0\" >&nbsp;</th>\n",
       "      <th class=\"blank col1\" >&nbsp;</th>\n",
       "      <th class=\"blank col2\" >&nbsp;</th>\n",
       "      <th class=\"blank col3\" >&nbsp;</th>\n",
       "      <th class=\"blank col4\" >&nbsp;</th>\n",
       "    </tr>\n",
       "  </thead>\n",
       "  <tbody>\n",
       "    <tr>\n",
       "      <th id=\"T_d4daf_level0_row0\" class=\"row_heading level0 row0\" >ALASKA</th>\n",
       "      <td id=\"T_d4daf_row0_col0\" class=\"data row0 col0\" >88.91%</td>\n",
       "      <td id=\"T_d4daf_row0_col1\" class=\"data row0 col1\" >94.85%</td>\n",
       "      <td id=\"T_d4daf_row0_col2\" class=\"data row0 col2\" >91.38%</td>\n",
       "      <td id=\"T_d4daf_row0_col3\" class=\"data row0 col3\" >83.14%</td>\n",
       "      <td id=\"T_d4daf_row0_col4\" class=\"data row0 col4\" >85.79%</td>\n",
       "    </tr>\n",
       "    <tr>\n",
       "      <th id=\"T_d4daf_level0_row1\" class=\"row_heading level0 row1\" >AM_WEST</th>\n",
       "      <td id=\"T_d4daf_row1_col0\" class=\"data row1 col0\" >85.57%</td>\n",
       "      <td id=\"T_d4daf_row1_col1\" class=\"data row1 col1\" >92.10%</td>\n",
       "      <td id=\"T_d4daf_row1_col2\" class=\"data row1 col2\" >85.49%</td>\n",
       "      <td id=\"T_d4daf_row1_col3\" class=\"data row1 col3\" >71.27%</td>\n",
       "      <td id=\"T_d4daf_row1_col4\" class=\"data row1 col4\" >76.72%</td>\n",
       "    </tr>\n",
       "  </tbody>\n",
       "</table>\n"
      ],
      "text/plain": [
       "<pandas.io.formats.style.Styler at 0x1d8e483e610>"
      ]
     },
     "execution_count": 5,
     "metadata": {},
     "output_type": "execute_result"
    }
   ],
   "source": [
    "# Step3: calculate and display the percentage of on-time flights of each airline flight for each city\n",
    "on_time_percentage_each_city = on_time_flights_each_city/total_flights_each_city\n",
    "on_time_percentage_each_city = on_time_percentage_each_city.map(lambda x: \"{0:.2f}%\".format(x*100))\n",
    "on_time_percentage_each_city.style.set_table_attributes(\"style='display:inline'\").set_caption('On-Time Flights Percentage for Each City')"
   ]
  },
  {
   "cell_type": "code",
   "execution_count": 6,
   "id": "1a13a942",
   "metadata": {},
   "outputs": [
    {
     "name": "stdout",
     "output_type": "stream",
     "text": [
      "For each city, the airlines with greater on-time percentages are:\n"
     ]
    },
    {
     "data": {
      "text/html": [
       "<div>\n",
       "<style scoped>\n",
       "    .dataframe tbody tr th:only-of-type {\n",
       "        vertical-align: middle;\n",
       "    }\n",
       "\n",
       "    .dataframe tbody tr th {\n",
       "        vertical-align: top;\n",
       "    }\n",
       "\n",
       "    .dataframe thead th {\n",
       "        text-align: right;\n",
       "    }\n",
       "</style>\n",
       "<table border=\"1\" class=\"dataframe\">\n",
       "  <thead>\n",
       "    <tr style=\"text-align: right;\">\n",
       "      <th></th>\n",
       "      <th>max percentage</th>\n",
       "      <th>airline</th>\n",
       "    </tr>\n",
       "  </thead>\n",
       "  <tbody>\n",
       "    <tr>\n",
       "      <th>Los Angeles</th>\n",
       "      <td>88.91%</td>\n",
       "      <td>ALASKA</td>\n",
       "    </tr>\n",
       "    <tr>\n",
       "      <th>Phoenix</th>\n",
       "      <td>94.85%</td>\n",
       "      <td>ALASKA</td>\n",
       "    </tr>\n",
       "    <tr>\n",
       "      <th>San Diego</th>\n",
       "      <td>91.38%</td>\n",
       "      <td>ALASKA</td>\n",
       "    </tr>\n",
       "    <tr>\n",
       "      <th>San Francisco</th>\n",
       "      <td>83.14%</td>\n",
       "      <td>ALASKA</td>\n",
       "    </tr>\n",
       "    <tr>\n",
       "      <th>Seattle</th>\n",
       "      <td>85.79%</td>\n",
       "      <td>ALASKA</td>\n",
       "    </tr>\n",
       "  </tbody>\n",
       "</table>\n",
       "</div>"
      ],
      "text/plain": [
       "              max percentage airline\n",
       "Los Angeles           88.91%  ALASKA\n",
       "Phoenix               94.85%  ALASKA\n",
       "San Diego             91.38%  ALASKA\n",
       "San Francisco         83.14%  ALASKA\n",
       "Seattle               85.79%  ALASKA"
      ]
     },
     "execution_count": 6,
     "metadata": {},
     "output_type": "execute_result"
    }
   ],
   "source": [
    "# Step4: creating a new dataframe to display which airline has greater on-time rate for each city\n",
    "on_time_max_airline = on_time_percentage_each_city.idxmax()\n",
    "on_time_max_percentage = on_time_percentage_each_city.max()\n",
    "\n",
    "print(\"For each city, the airlines with greater on-time percentages are:\")\n",
    "on_time = pd.DataFrame({'max percentage': on_time_max_percentage, 'airline': on_time_max_airline})\n",
    "on_time.head()"
   ]
  },
  {
   "cell_type": "markdown",
   "id": "b298e733",
   "metadata": {},
   "source": [
    "From the above data, we recommend to choose ALASKA airline for these cities to avoid being delayed if the passenger has tight travel schedule."
   ]
  },
  {
   "cell_type": "code",
   "execution_count": 7,
   "id": "218ef477",
   "metadata": {},
   "outputs": [],
   "source": [
    "##  2. Calculate the total percentage of on-time flights for each airline for all city"
   ]
  },
  {
   "cell_type": "code",
   "execution_count": 8,
   "id": "8f2258f9",
   "metadata": {},
   "outputs": [
    {
     "data": {
      "text/plain": [
       "airline\n",
       "ALASKA     3274\n",
       "AM_WEST    6438\n",
       "dtype: int64"
      ]
     },
     "execution_count": 8,
     "metadata": {},
     "output_type": "execute_result"
    }
   ],
   "source": [
    "# Step1: find the total on-time flights for each airline\n",
    "on_time_flights_each_city.head()\n",
    "on_time_flights_each_airline = on_time_flights_each_city.sum(axis=1)\n",
    "on_time_flights_each_airline.head()"
   ]
  },
  {
   "cell_type": "code",
   "execution_count": 9,
   "id": "4b815a72",
   "metadata": {},
   "outputs": [
    {
     "data": {
      "text/plain": [
       "airline\n",
       "ALASKA     3775\n",
       "AM_WEST    7225\n",
       "dtype: int64"
      ]
     },
     "execution_count": 9,
     "metadata": {},
     "output_type": "execute_result"
    }
   ],
   "source": [
    "# Step2: find the total flights for each airline\n",
    "total_flights_each_airline = flights.groupby('airline').sum().sum(axis=1)\n",
    "total_flights_each_airline.head()"
   ]
  },
  {
   "cell_type": "code",
   "execution_count": 10,
   "id": "67459740",
   "metadata": {},
   "outputs": [
    {
     "data": {
      "text/plain": [
       "airline\n",
       "ALASKA     86.73%\n",
       "AM_WEST    89.11%\n",
       "dtype: object"
      ]
     },
     "execution_count": 10,
     "metadata": {},
     "output_type": "execute_result"
    }
   ],
   "source": [
    "# Step3: calculate the percentage of total on-time for each airline\n",
    "on_time_percentage_total = on_time_flights_each_airline/ total_flights_each_airline\n",
    "on_time_percentage_total = on_time_percentage_total.map(lambda x: \"{0:.2f}%\".format(x*100))\n",
    "on_time_percentage_total.head()"
   ]
  },
  {
   "cell_type": "code",
   "execution_count": 11,
   "id": "d02a9f92",
   "metadata": {},
   "outputs": [
    {
     "name": "stdout",
     "output_type": "stream",
     "text": [
      "For each airline, the total flights on-time percentages are:\n"
     ]
    },
    {
     "data": {
      "text/html": [
       "<div>\n",
       "<style scoped>\n",
       "    .dataframe tbody tr th:only-of-type {\n",
       "        vertical-align: middle;\n",
       "    }\n",
       "\n",
       "    .dataframe tbody tr th {\n",
       "        vertical-align: top;\n",
       "    }\n",
       "\n",
       "    .dataframe thead th {\n",
       "        text-align: right;\n",
       "    }\n",
       "</style>\n",
       "<table border=\"1\" class=\"dataframe\">\n",
       "  <thead>\n",
       "    <tr style=\"text-align: right;\">\n",
       "      <th></th>\n",
       "      <th>On-Time Percentage</th>\n",
       "    </tr>\n",
       "    <tr>\n",
       "      <th>airline</th>\n",
       "      <th></th>\n",
       "    </tr>\n",
       "  </thead>\n",
       "  <tbody>\n",
       "    <tr>\n",
       "      <th>ALASKA</th>\n",
       "      <td>86.73%</td>\n",
       "    </tr>\n",
       "    <tr>\n",
       "      <th>AM_WEST</th>\n",
       "      <td>89.11%</td>\n",
       "    </tr>\n",
       "  </tbody>\n",
       "</table>\n",
       "</div>"
      ],
      "text/plain": [
       "        On-Time Percentage\n",
       "airline                   \n",
       "ALASKA              86.73%\n",
       "AM_WEST             89.11%"
      ]
     },
     "execution_count": 11,
     "metadata": {},
     "output_type": "execute_result"
    }
   ],
   "source": [
    "print(\"For each airline, the total flights on-time percentages are:\")\n",
    "on_time_percentage_total.to_frame('On-Time Percentage')"
   ]
  },
  {
   "cell_type": "markdown",
   "id": "01d335e7",
   "metadata": {},
   "source": [
    "If not looking at the cities, the airline with the greater total on-time percentage is AM_West."
   ]
  },
  {
   "cell_type": "code",
   "execution_count": null,
   "id": "5e0024da",
   "metadata": {},
   "outputs": [],
   "source": []
  }
 ],
 "metadata": {
  "kernelspec": {
   "display_name": "Python 3 (ipykernel)",
   "language": "python",
   "name": "python3"
  },
  "language_info": {
   "codemirror_mode": {
    "name": "ipython",
    "version": 3
   },
   "file_extension": ".py",
   "mimetype": "text/x-python",
   "name": "python",
   "nbconvert_exporter": "python",
   "pygments_lexer": "ipython3",
   "version": "3.11.1"
  }
 },
 "nbformat": 4,
 "nbformat_minor": 5
}
